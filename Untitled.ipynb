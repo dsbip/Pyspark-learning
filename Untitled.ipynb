{
 "cells": [
  {
   "cell_type": "code",
   "execution_count": 1,
   "id": "8ec99a14",
   "metadata": {},
   "outputs": [
    {
     "name": "stdout",
     "output_type": "stream",
     "text": [
      "Populating the interactive namespace from numpy and matplotlib\n"
     ]
    }
   ],
   "source": [
    "%pylab inline\n",
    "\n",
    "import sys\n",
    "from operator import add\n",
    "\n",
    "from pyspark.sql import SparkSession\n"
   ]
  },
  {
   "cell_type": "code",
   "execution_count": 3,
   "id": "b80f5edd",
   "metadata": {},
   "outputs": [
    {
     "name": "stdout",
     "output_type": "stream",
     "text": [
      "PythonRDD[5] at RDD at PythonRDD.scala:53\n",
      "[4, 4, 4, 5, 6, 4, 5, 6, 4, 4, 4, 5, 6, 5, 5, 6, 5]\n"
     ]
    }
   ],
   "source": [
    "\n",
    "\n",
    "spark = SparkSession\\\n",
    "    .builder\\\n",
    "    .appName(\"PythonWordCount\")\\\n",
    "    .getOrCreate()\n",
    "\n",
    "lines = spark.read.text('change.log').rdd.map(lambda r: r[0])\n",
    "\n",
    "print(lines)\n",
    "\n",
    "sum = spark.read.text('wordCount.txt').rdd.map(lambda r: r[0]).map(lambda s: len(s))#.reduce(lambda a, b: a + b)\n",
    "sum1 = sum.collect()\n",
    "print(sum1)"
   ]
  },
  {
   "cell_type": "code",
   "execution_count": 4,
   "id": "227d6416",
   "metadata": {},
   "outputs": [
    {
     "name": "stdout",
     "output_type": "stream",
     "text": [
      "PythonRDD[12] at RDD at PythonRDD.scala:53\n"
     ]
    }
   ],
   "source": [
    "counts_1 = lines.flatMap(lambda x: x.split(' ')) \\\n",
    "              .map(lambda x: (x, 1)) \n",
    "print(counts_1)"
   ]
  },
  {
   "cell_type": "code",
   "execution_count": 5,
   "id": "21957fb4",
   "metadata": {},
   "outputs": [
    {
     "name": "stdout",
     "output_type": "stream",
     "text": [
      "[('Notepad++', 1), ('v8', 1), ('new', 1), ('features,', 1), ('enhancements', 1), ('&', 1), ('bug-fixes:', 1), ('', 1), ('1.', 1), ('', 1), ('Add', 1), ('Dark', 1), ('Mode.', 1), ('2.', 1), ('', 1), ('ARM64', 1), ('build', 1), ('is', 1), ('available.', 1), ('3.', 1), ('', 1), ('One', 1), ('button', 1), ('to', 1), ('build', 1), ('them', 1), ('all', 1), ('-', 1), ('build', 1), ('Notepad++', 1), ('with', 1), ('Scintilla', 1), ('static', 1), ('lib', 1), ('and', 1), ('Boost', 1), ('RegExpr', 1), ('headers.', 1), ('4.', 1), ('', 1), ('Add', 1), ('new', 1), ('Fluent', 1), ('UI', 1), ('icons', 1), ('for', 1), ('toolbar.', 1), ('5.', 1), ('', 1), ('Add', 1), ('new', 1), ('feature', 1), ('\"Distraction', 1), ('Free', 1), ('Mode\"', 1), ('(Menu', 1), ('\"View->Distraction', 1), ('Free', 1), ('Mode\").', 1), ('6.', 1), ('', 1), ('Add', 1), ('new', 1), ('API', 1), ('NPPM_ADDTOOLBARICON_FORDARKMODE', 1), ('for', 1), ('dark', 1), ('mode.', 1), ('7.', 1), ('', 1), ('Add', 1), ('1', 1), ('click', 1), ('action', 1), ('(SHIFT-click)', 1), ('on', 1), ('close', 1), ('button', 1), ('to', 1), ('close', 1), ('all', 1), ('tabs', 1), ('in', 1), ('dockable', 1), ('panel.', 1), ('8.', 1), ('', 1), ('Add', 1), ('ability', 1), ('of', 1), ('changing', 1), ('select', 1), ('text', 1), ('foreground', 1), ('color', 1), ('(optional).', 1), ('9.', 1), ('', 1), ('Allow', 1), ('Replace', 1), ('to', 1), ('stop', 1), ('after', 1), ('replacement', 1), ('(optional).', 1), ('10.', 1), ('Fix', 1), ('append', 1), ('extension', 1), ('feature', 1), ('not', 1), ('working', 1), ('in', 1), ('save', 1), ('dialog.', 1), ('11.', 1), ('Add', 1), ('ability', 1), ('to', 1), ('reverse', 1), ('line', 1), ('order.', 1), ('12.', 1), ('Add', 1), ('ability', 1), ('to', 1), ('style', 1), ('only', 1), ('current', 1), ('instance', 1), ('of', 1), ('text.', 1), ('13.', 1), ('Fix', 1), ('duplicated', 1), ('entries', 1), ('in', 1), ('Auto-Completion', 1), ('pop-up', 1), ('window.', 1), ('14.', 1), ('Fix', 1), ('Python', 1), ('Function', 1), ('List', 1), ('not', 1), ('showing', 1), ('functions', 1), ('in', 1), ('some', 1), ('circumstance.', 1), ('15.', 1), ('Enhance', 1), ('Folder', 1), ('as', 1), ('Workspace', 1), ('performance', 1), ('while', 1), ('adding/removing', 1), ('files', 1), ('in', 1), ('bulk.', 1), ('16.', 1), ('Add', 1), ('Ada,', 1), ('Fortran,', 1), ('Fortran77', 1), ('&', 1), ('Haskell', 1), ('in', 1), ('function', 1), ('lists.', 1), ('17.', 1), ('Improve', 1), ('performance', 1), ('of', 1), ('\"Open', 1), ('all\"', 1), ('command', 1), ('in', 1), ('Search', 1), ('results.', 1), ('18.', 1), ('Add', 1), ('\"Copy', 1), ('Pathnames\"', 1), ('command', 1), ('to', 1), ('Search', 1), ('results', 1), ('context', 1), ('menu.', 1), ('19.', 1), ('Catch', 1), ('regex', 1), ('search', 1), ('exceptions', 1), ('and', 1), ('show', 1), ('exception', 1), ('message.', 1), ('20.', 1), ('Add', 1), ('MarkAll', 1), ('Preference', 1), ('settings', 1), ('for', 1), ('case', 1), ('and', 1), ('word.', 1), ('21.', 1), ('Fix', 1), ('regression:', 1), ('Handle', 1), ('\"Default', 1), ('Directory\"', 1), ('setting', 1), ('correctly', 1), ('in', 1), ('Open/Save', 1), ('File', 1), ('Dialog.', 1), ('22.', 1), ('Fix', 1), ('a', 1), ('special', 1), ('character', 1), ('in', 1), ('UTF16', 1), ('file', 1), ('crash', 1), ('issue', 1), ('23.', 1), ('Add', 1), ('\"Append', 1), ('extension\"', 1), ('checkbox', 1), ('to', 1), ('Save', 1), ('As', 1), ('dialog.', 1), ('24.', 1), ('Fix', 1), ('Copy', 1), ('command', 1), ('in', 1), ('Search', 1), ('result', 1), ('is', 1), ('available', 1), ('as', 1), (\"there's\", 1), ('no', 1), ('selection.', 1), ('25.', 1), ('Add', 1), ('padding', 1), ('ability', 1), ('in', 1), ('the', 1), ('edit', 1), ('zone.', 1), ('26.', 1), ('Make', 1), ('new', 1), ('tab', 1), ('name', 1), ('translatable.', 1), ('27.', 1), ('Improve', 1), ('character', 1), ('case', 1), ('handling', 1), ('in', 1), ('RegEx.', 1), ('28.', 1), ('Fix', 1), ('dragged', 1), ('out', 1), ('UDL', 1), ('file', 1), ('is', 1), ('not', 1), ('applied', 1), ('to', 1), ('UDL', 1), ('in', 1), ('the', 1), ('new', 1), ('instance.', 1), ('29.', 1), ('Add', 1), ('command', 1), ('line', 1), ('parameter', 1), ('for', 1), ('adding', 1), ('specified', 1), ('string', 1), ('to', 1), ('app', 1), ('title', 1), ('bar.', 1), ('30.', 1), ('Fix', 1), ('Auto-Completion', 1), ('ignoring', 1), ('case', 1), ('issue.', 1), ('31.', 1), ('Fix', 1), ('\"Match', 1), ('Whole', 1), ('Word\"', 1), ('option', 1), ('being', 1), ('enabled', 1), ('in', 1), ('RegEx', 1), ('Search.', 1), ('32.', 1), ('Fix', 1), ('sort', 1), ('with', 1), ('column', 1), ('key', 1), ('selection', 1), ('that', 1), ('appears', 1), ('after', 1), ('tab', 1), ('characters.', 1), ('33.', 1), ('Fix', 1), ('\"Reload', 1), ('Workspace\"', 1), ('menu', 1), ('command', 1), ('not', 1), ('working', 1), ('issue.', 1), ('34.', 1), ('Fix', 1), ('view', 1), ('file', 1), ('in', 1), ('Edge', 1), ('browser', 1), ('failure', 1), ('issue', 1), ('if', 1), ('name', 1), ('contains', 1), ('spaces.', 1), ('35.', 1), ('Add', 1), ('ability', 1), ('to', 1), ('avoid', 1), ('accumulating', 1), ('multiple', 1), ('search', 1), ('results.', 1), ('36.', 1), ('Fix', 1), ('UTF-16', 1), ('decoding/encoding', 1), ('for', 1), ('code', 1), ('points', 1), ('above', 1), ('U+FFFF.', 1), ('37.', 1), ('Fix', 1), ('\"Save', 1), ('As\"', 1), ('command', 1), ('removing', 1), ('original', 1), ('path', 1), ('from', 1), ('recent', 1), ('files', 1), ('history', 1), ('issue.', 1), ('38.', 1), ('Fix', 1), ('function', 1), ('List', 1), ('button', 1), ('tool', 1), ('tips', 1), ('mixed', 1), ('up', 1), ('issue.', 1), ('39.', 1), ('Remove', 1), ('Microsoft', 1), ('Bing', 1), ('from', 1), ('search', 1), ('engines', 1), ('for', 1), ('Search', 1), ('on', 1), ('Internet', 1), ('command.', 1), ('', 1), ('More', 1), ('fixes', 1), ('&', 1), ('implementations', 1), ('detail:', 1), ('https://notepad-plus-plus.org/downloads/v8/', 1), ('', 1), ('', 1), ('Included', 1), ('plugins:', 1), ('', 1), ('1.', 1), ('', 1), ('NppExport', 1), ('v0.3', 1), ('2.', 1), ('', 1), ('Converter', 1), ('v4.3', 1), ('3.', 1), ('', 1), ('Mime', 1), ('Tool', 1), ('v2.6', 1), ('', 1), ('', 1), ('Updater', 1), ('(Installer', 1), ('only):', 1), ('', 1), ('*', 1), ('WinGup', 1), ('(for', 1), ('Notepad++)', 1), ('v5.2', 1)]\n"
     ]
    }
   ],
   "source": [
    "op1 = counts_1.collect()\n",
    "print(op1)"
   ]
  },
  {
   "cell_type": "code",
   "execution_count": 6,
   "id": "08e16015",
   "metadata": {},
   "outputs": [],
   "source": [
    "counts2=counts_1.reduceByKeyLocally(lambda a, b: a + b)"
   ]
  },
  {
   "cell_type": "code",
   "execution_count": 7,
   "id": "3adf524f",
   "metadata": {},
   "outputs": [
    {
     "name": "stdout",
     "output_type": "stream",
     "text": [
      "{'Notepad++': 2, 'v8': 1, 'new': 6, 'features,': 1, 'enhancements': 1, '&': 3, 'bug-fixes:': 1, '': 20, '1.': 2, 'Add': 15, 'Dark': 1, 'Mode.': 1, '2.': 2, 'ARM64': 1, 'build': 3, 'is': 3, 'available.': 1, '3.': 2, 'One': 1, 'button': 3, 'to': 10, 'them': 1, 'all': 2, '-': 1, 'with': 2, 'Scintilla': 1, 'static': 1, 'lib': 1, 'and': 3, 'Boost': 1, 'RegExpr': 1, 'headers.': 1, '4.': 1, 'Fluent': 1, 'UI': 1, 'icons': 1, 'for': 6, 'toolbar.': 1, '5.': 1, 'feature': 2, '\"Distraction': 1, 'Free': 2, 'Mode\"': 1, '(Menu': 1, '\"View->Distraction': 1, 'Mode\").': 1, '6.': 1, 'API': 1, 'NPPM_ADDTOOLBARICON_FORDARKMODE': 1, 'dark': 1, 'mode.': 1, '7.': 1, '1': 1, 'click': 1, 'action': 1, '(SHIFT-click)': 1, 'on': 2, 'close': 2, 'tabs': 1, 'in': 15, 'dockable': 1, 'panel.': 1, '8.': 1, 'ability': 5, 'of': 3, 'changing': 1, 'select': 1, 'text': 1, 'foreground': 1, 'color': 1, '(optional).': 2, '9.': 1, 'Allow': 1, 'Replace': 1, 'stop': 1, 'after': 2, 'replacement': 1, '10.': 1, 'Fix': 15, 'append': 1, 'extension': 1, 'not': 4, 'working': 2, 'save': 1, 'dialog.': 2, '11.': 1, 'reverse': 1, 'line': 2, 'order.': 1, '12.': 1, 'style': 1, 'only': 1, 'current': 1, 'instance': 1, 'text.': 1, '13.': 1, 'duplicated': 1, 'entries': 1, 'Auto-Completion': 2, 'pop-up': 1, 'window.': 1, '14.': 1, 'Python': 1, 'Function': 1, 'List': 2, 'showing': 1, 'functions': 1, 'some': 1, 'circumstance.': 1, '15.': 1, 'Enhance': 1, 'Folder': 1, 'as': 2, 'Workspace': 1, 'performance': 2, 'while': 1, 'adding/removing': 1, 'files': 2, 'bulk.': 1, '16.': 1, 'Ada,': 1, 'Fortran,': 1, 'Fortran77': 1, 'Haskell': 1, 'function': 2, 'lists.': 1, '17.': 1, 'Improve': 2, '\"Open': 1, 'all\"': 1, 'command': 6, 'Search': 4, 'results.': 2, '18.': 1, '\"Copy': 1, 'Pathnames\"': 1, 'results': 1, 'context': 1, 'menu.': 1, '19.': 1, 'Catch': 1, 'regex': 1, 'search': 3, 'exceptions': 1, 'show': 1, 'exception': 1, 'message.': 1, '20.': 1, 'MarkAll': 1, 'Preference': 1, 'settings': 1, 'case': 3, 'word.': 1, '21.': 1, 'regression:': 1, 'Handle': 1, '\"Default': 1, 'Directory\"': 1, 'setting': 1, 'correctly': 1, 'Open/Save': 1, 'File': 1, 'Dialog.': 1, '22.': 1, 'a': 1, 'special': 1, 'character': 2, 'UTF16': 1, 'file': 3, 'crash': 1, 'issue': 2, '23.': 1, '\"Append': 1, 'extension\"': 1, 'checkbox': 1, 'Save': 1, 'As': 1, '24.': 1, 'Copy': 1, 'result': 1, 'available': 1, \"there's\": 1, 'no': 1, 'selection.': 1, '25.': 1, 'padding': 1, 'the': 2, 'edit': 1, 'zone.': 1, '26.': 1, 'Make': 1, 'tab': 2, 'name': 2, 'translatable.': 1, '27.': 1, 'handling': 1, 'RegEx.': 1, '28.': 1, 'dragged': 1, 'out': 1, 'UDL': 2, 'applied': 1, 'instance.': 1, '29.': 1, 'parameter': 1, 'adding': 1, 'specified': 1, 'string': 1, 'app': 1, 'title': 1, 'bar.': 1, '30.': 1, 'ignoring': 1, 'issue.': 4, '31.': 1, '\"Match': 1, 'Whole': 1, 'Word\"': 1, 'option': 1, 'being': 1, 'enabled': 1, 'RegEx': 1, 'Search.': 1, '32.': 1, 'sort': 1, 'column': 1, 'key': 1, 'selection': 1, 'that': 1, 'appears': 1, 'characters.': 1, '33.': 1, '\"Reload': 1, 'Workspace\"': 1, 'menu': 1, '34.': 1, 'view': 1, 'Edge': 1, 'browser': 1, 'failure': 1, 'if': 1, 'contains': 1, 'spaces.': 1, '35.': 1, 'avoid': 1, 'accumulating': 1, 'multiple': 1, '36.': 1, 'UTF-16': 1, 'decoding/encoding': 1, 'code': 1, 'points': 1, 'above': 1, 'U+FFFF.': 1, '37.': 1, '\"Save': 1, 'As\"': 1, 'removing': 1, 'original': 1, 'path': 1, 'from': 2, 'recent': 1, 'history': 1, '38.': 1, 'tool': 1, 'tips': 1, 'mixed': 1, 'up': 1, '39.': 1, 'Remove': 1, 'Microsoft': 1, 'Bing': 1, 'engines': 1, 'Internet': 1, 'command.': 1, 'More': 1, 'fixes': 1, 'implementations': 1, 'detail:': 1, 'https://notepad-plus-plus.org/downloads/v8/': 1, 'Included': 1, 'plugins:': 1, 'NppExport': 1, 'v0.3': 1, 'Converter': 1, 'v4.3': 1, 'Mime': 1, 'Tool': 1, 'v2.6': 1, 'Updater': 1, '(Installer': 1, 'only):': 1, '*': 1, 'WinGup': 1, '(for': 1, 'Notepad++)': 1, 'v5.2': 1}\n"
     ]
    }
   ],
   "source": [
    "#counts = counts2.collect()\n",
    "print(counts2)"
   ]
  },
  {
   "cell_type": "code",
   "execution_count": 8,
   "id": "f6cf9149",
   "metadata": {
    "scrolled": true
   },
   "outputs": [
    {
     "name": "stdout",
     "output_type": "stream",
     "text": [
      "{'Notepad++': 2, 'v8': 1, 'new': 6, 'features,': 1, 'enhancements': 1, '&': 3, 'bug-fixes:': 1, '': 20, '1.': 2, 'Add': 15, 'Dark': 1, 'Mode.': 1, '2.': 2, 'ARM64': 1, 'build': 3, 'is': 3, 'available.': 1, '3.': 2, 'One': 1, 'button': 3, 'to': 10, 'them': 1, 'all': 2, '-': 1, 'with': 2, 'Scintilla': 1, 'static': 1, 'lib': 1, 'and': 3, 'Boost': 1, 'RegExpr': 1, 'headers.': 1, '4.': 1, 'Fluent': 1, 'UI': 1, 'icons': 1, 'for': 6, 'toolbar.': 1, '5.': 1, 'feature': 2, '\"Distraction': 1, 'Free': 2, 'Mode\"': 1, '(Menu': 1, '\"View->Distraction': 1, 'Mode\").': 1, '6.': 1, 'API': 1, 'NPPM_ADDTOOLBARICON_FORDARKMODE': 1, 'dark': 1, 'mode.': 1, '7.': 1, '1': 1, 'click': 1, 'action': 1, '(SHIFT-click)': 1, 'on': 2, 'close': 2, 'tabs': 1, 'in': 15, 'dockable': 1, 'panel.': 1, '8.': 1, 'ability': 5, 'of': 3, 'changing': 1, 'select': 1, 'text': 1, 'foreground': 1, 'color': 1, '(optional).': 2, '9.': 1, 'Allow': 1, 'Replace': 1, 'stop': 1, 'after': 2, 'replacement': 1, '10.': 1, 'Fix': 15, 'append': 1, 'extension': 1, 'not': 4, 'working': 2, 'save': 1, 'dialog.': 2, '11.': 1, 'reverse': 1, 'line': 2, 'order.': 1, '12.': 1, 'style': 1, 'only': 1, 'current': 1, 'instance': 1, 'text.': 1, '13.': 1, 'duplicated': 1, 'entries': 1, 'Auto-Completion': 2, 'pop-up': 1, 'window.': 1, '14.': 1, 'Python': 1, 'Function': 1, 'List': 2, 'showing': 1, 'functions': 1, 'some': 1, 'circumstance.': 1, '15.': 1, 'Enhance': 1, 'Folder': 1, 'as': 2, 'Workspace': 1, 'performance': 2, 'while': 1, 'adding/removing': 1, 'files': 2, 'bulk.': 1, '16.': 1, 'Ada,': 1, 'Fortran,': 1, 'Fortran77': 1, 'Haskell': 1, 'function': 2, 'lists.': 1, '17.': 1, 'Improve': 2, '\"Open': 1, 'all\"': 1, 'command': 6, 'Search': 4, 'results.': 2, '18.': 1, '\"Copy': 1, 'Pathnames\"': 1, 'results': 1, 'context': 1, 'menu.': 1, '19.': 1, 'Catch': 1, 'regex': 1, 'search': 3, 'exceptions': 1, 'show': 1, 'exception': 1, 'message.': 1, '20.': 1, 'MarkAll': 1, 'Preference': 1, 'settings': 1, 'case': 3, 'word.': 1, '21.': 1, 'regression:': 1, 'Handle': 1, '\"Default': 1, 'Directory\"': 1, 'setting': 1, 'correctly': 1, 'Open/Save': 1, 'File': 1, 'Dialog.': 1, '22.': 1, 'a': 1, 'special': 1, 'character': 2, 'UTF16': 1, 'file': 3, 'crash': 1, 'issue': 2, '23.': 1, '\"Append': 1, 'extension\"': 1, 'checkbox': 1, 'Save': 1, 'As': 1, '24.': 1, 'Copy': 1, 'result': 1, 'available': 1, \"there's\": 1, 'no': 1, 'selection.': 1, '25.': 1, 'padding': 1, 'the': 2, 'edit': 1, 'zone.': 1, '26.': 1, 'Make': 1, 'tab': 2, 'name': 2, 'translatable.': 1, '27.': 1, 'handling': 1, 'RegEx.': 1, '28.': 1, 'dragged': 1, 'out': 1, 'UDL': 2, 'applied': 1, 'instance.': 1, '29.': 1, 'parameter': 1, 'adding': 1, 'specified': 1, 'string': 1, 'app': 1, 'title': 1, 'bar.': 1, '30.': 1, 'ignoring': 1, 'issue.': 4, '31.': 1, '\"Match': 1, 'Whole': 1, 'Word\"': 1, 'option': 1, 'being': 1, 'enabled': 1, 'RegEx': 1, 'Search.': 1, '32.': 1, 'sort': 1, 'column': 1, 'key': 1, 'selection': 1, 'that': 1, 'appears': 1, 'characters.': 1, '33.': 1, '\"Reload': 1, 'Workspace\"': 1, 'menu': 1, '34.': 1, 'view': 1, 'Edge': 1, 'browser': 1, 'failure': 1, 'if': 1, 'contains': 1, 'spaces.': 1, '35.': 1, 'avoid': 1, 'accumulating': 1, 'multiple': 1, '36.': 1, 'UTF-16': 1, 'decoding/encoding': 1, 'code': 1, 'points': 1, 'above': 1, 'U+FFFF.': 1, '37.': 1, '\"Save': 1, 'As\"': 1, 'removing': 1, 'original': 1, 'path': 1, 'from': 2, 'recent': 1, 'history': 1, '38.': 1, 'tool': 1, 'tips': 1, 'mixed': 1, 'up': 1, '39.': 1, 'Remove': 1, 'Microsoft': 1, 'Bing': 1, 'engines': 1, 'Internet': 1, 'command.': 1, 'More': 1, 'fixes': 1, 'implementations': 1, 'detail:': 1, 'https://notepad-plus-plus.org/downloads/v8/': 1, 'Included': 1, 'plugins:': 1, 'NppExport': 1, 'v0.3': 1, 'Converter': 1, 'v4.3': 1, 'Mime': 1, 'Tool': 1, 'v2.6': 1, 'Updater': 1, '(Installer': 1, 'only):': 1, '*': 1, 'WinGup': 1, '(for': 1, 'Notepad++)': 1, 'v5.2': 1}\n"
     ]
    }
   ],
   "source": [
    "print(counts2)\n",
    "# counts2.foreach(print)"
   ]
  },
  {
   "cell_type": "code",
   "execution_count": 9,
   "id": "b5dede27",
   "metadata": {},
   "outputs": [
    {
     "ename": "AttributeError",
     "evalue": "'dict' object has no attribute 'collect'",
     "output_type": "error",
     "traceback": [
      "\u001b[1;31m---------------------------------------------------------------------------\u001b[0m",
      "\u001b[1;31mAttributeError\u001b[0m                            Traceback (most recent call last)",
      "\u001b[1;32m~\\AppData\\Local\\Temp/ipykernel_4640/2683584988.py\u001b[0m in \u001b[0;36m<module>\u001b[1;34m\u001b[0m\n\u001b[1;32m----> 1\u001b[1;33m \u001b[0moutput\u001b[0m \u001b[1;33m=\u001b[0m \u001b[0mcounts2\u001b[0m\u001b[1;33m.\u001b[0m\u001b[0mcollect\u001b[0m\u001b[1;33m(\u001b[0m\u001b[1;33m)\u001b[0m\u001b[1;33m\u001b[0m\u001b[1;33m\u001b[0m\u001b[0m\n\u001b[0m",
      "\u001b[1;31mAttributeError\u001b[0m: 'dict' object has no attribute 'collect'"
     ]
    }
   ],
   "source": [
    "output = counts2.collect()"
   ]
  },
  {
   "cell_type": "code",
   "execution_count": 14,
   "id": "3633879f",
   "metadata": {},
   "outputs": [
    {
     "ename": "NameError",
     "evalue": "name 'output' is not defined",
     "output_type": "error",
     "traceback": [
      "\u001b[1;31m---------------------------------------------------------------------------\u001b[0m",
      "\u001b[1;31mNameError\u001b[0m                                 Traceback (most recent call last)",
      "\u001b[1;32m~\\AppData\\Local\\Temp/ipykernel_19528/4201221482.py\u001b[0m in \u001b[0;36m<module>\u001b[1;34m\u001b[0m\n\u001b[1;32m----> 1\u001b[1;33m \u001b[0mprint\u001b[0m\u001b[1;33m(\u001b[0m\u001b[0moutput\u001b[0m\u001b[1;33m)\u001b[0m\u001b[1;33m\u001b[0m\u001b[1;33m\u001b[0m\u001b[0m\n\u001b[0m",
      "\u001b[1;31mNameError\u001b[0m: name 'output' is not defined"
     ]
    }
   ],
   "source": [
    "print(output)"
   ]
  },
  {
   "cell_type": "code",
   "execution_count": 15,
   "id": "a121a1b1",
   "metadata": {},
   "outputs": [
    {
     "ename": "NameError",
     "evalue": "name 'output' is not defined",
     "output_type": "error",
     "traceback": [
      "\u001b[1;31m---------------------------------------------------------------------------\u001b[0m",
      "\u001b[1;31mNameError\u001b[0m                                 Traceback (most recent call last)",
      "\u001b[1;32m~\\AppData\\Local\\Temp/ipykernel_19528/2834479500.py\u001b[0m in \u001b[0;36m<module>\u001b[1;34m\u001b[0m\n\u001b[1;32m----> 1\u001b[1;33m \u001b[1;32mfor\u001b[0m \u001b[1;33m(\u001b[0m\u001b[0mword\u001b[0m\u001b[1;33m,\u001b[0m \u001b[0mcount\u001b[0m\u001b[1;33m)\u001b[0m \u001b[1;32min\u001b[0m \u001b[0moutput\u001b[0m\u001b[1;33m:\u001b[0m\u001b[1;33m\u001b[0m\u001b[1;33m\u001b[0m\u001b[0m\n\u001b[0m\u001b[0;32m      2\u001b[0m     \u001b[0mprint\u001b[0m\u001b[1;33m(\u001b[0m\u001b[1;34m\"%s: %i\"\u001b[0m \u001b[1;33m%\u001b[0m \u001b[1;33m(\u001b[0m\u001b[0mword\u001b[0m\u001b[1;33m,\u001b[0m \u001b[0mcount\u001b[0m\u001b[1;33m)\u001b[0m\u001b[1;33m)\u001b[0m\u001b[1;33m\u001b[0m\u001b[1;33m\u001b[0m\u001b[0m\n\u001b[0;32m      3\u001b[0m \u001b[1;33m\u001b[0m\u001b[0m\n",
      "\u001b[1;31mNameError\u001b[0m: name 'output' is not defined"
     ]
    }
   ],
   "source": [
    "for (word, count) in output:\n",
    "    print(\"%s: %i\" % (word, count))\n",
    "\n"
   ]
  },
  {
   "cell_type": "code",
   "execution_count": 16,
   "id": "ce4b9a86",
   "metadata": {},
   "outputs": [],
   "source": [
    "spark.stop()"
   ]
  },
  {
   "cell_type": "code",
   "execution_count": null,
   "id": "a81386c1",
   "metadata": {},
   "outputs": [],
   "source": []
  }
 ],
 "metadata": {
  "kernelspec": {
   "display_name": "Python 3 (ipykernel)",
   "language": "python",
   "name": "python3"
  },
  "language_info": {
   "codemirror_mode": {
    "name": "ipython",
    "version": 3
   },
   "file_extension": ".py",
   "mimetype": "text/x-python",
   "name": "python",
   "nbconvert_exporter": "python",
   "pygments_lexer": "ipython3",
   "version": "3.9.5"
  }
 },
 "nbformat": 4,
 "nbformat_minor": 5
}
